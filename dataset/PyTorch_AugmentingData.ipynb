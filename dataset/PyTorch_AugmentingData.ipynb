{
 "cells": [
  {
   "cell_type": "markdown",
   "metadata": {},
   "source": [
    "# PyTorch Data Augmentation Notebook"
   ]
  },
  {
   "cell_type": "markdown",
   "metadata": {},
   "source": [
    "Imports the necessary Python libraries, including \n",
    "- os\n",
    "- random\n",
    "- torch, torchvision for image processing and transformations - `pip install torch torchvision torchaudio`\n",
    "- PIL for handling images - `pip install pillow`"
   ]
  },
  {
   "cell_type": "markdown",
   "metadata": {},
   "source": [
    "### Imports"
   ]
  },
  {
   "cell_type": "code",
   "execution_count": 1,
   "metadata": {},
   "outputs": [],
   "source": [
    "# imports\n",
    "import os\n",
    "import cv2\n",
    "import random\n",
    "import torch\n",
    "import torchvision.utils as t_utils\n",
    "import torchvision.transforms.v2 as t_v2"
   ]
  },
  {
   "cell_type": "markdown",
   "metadata": {},
   "source": [
    "#### Variables"
   ]
  },
  {
   "cell_type": "code",
   "execution_count": 2,
   "metadata": {},
   "outputs": [],
   "source": [
    "dataset_path = 'ConstellationDataset'\n",
    "num_of_iterations_per_image = 50\n",
    "\n",
    "if not os.path.exists(dataset_path):\n",
    "    print(\"!!! <Dataset Not Found> !!!\")"
   ]
  },
  {
   "cell_type": "markdown",
   "metadata": {},
   "source": [
    "### Accessing/Loading Images"
   ]
  },
  {
   "cell_type": "markdown",
   "metadata": {},
   "source": [
    "Defines a function to load images from a folder. The function goes through all files in the specified folder and subfolders, checking for image files (JPEG, PNG) and loading them. It saves the images in a list along with their file paths"
   ]
  },
  {
   "cell_type": "code",
   "execution_count": 5,
   "metadata": {},
   "outputs": [
    {
     "name": "stdout",
     "output_type": "stream",
     "text": [
      "----- <Loaded 60 images from ConstellationDataset> -----\n"
     ]
    }
   ],
   "source": [
    "# function to load images from a specified folder\n",
    "def load_images_from_folder(folder, skip_dirs=None):\n",
    "    # initialize empty list to store the images and their paths\n",
    "    images = []\n",
    "    \n",
    "    # if no directories to skip are specified, initialize to an empty list\n",
    "    if skip_dirs is None:\n",
    "        skip_dirs = []\n",
    "    \n",
    "    # walking/going through the folder, including all subfolders\n",
    "    for root, _, files in os.walk(folder):\n",
    "        # skip the root folder - this makes sure to save only the images in the subfolders/classes\n",
    "        # if root == folder:\n",
    "        #     continue  # Skip files directly in the root folder\n",
    "        \n",
    "        # skip any directories specified in skip_dirs\n",
    "        if any(skip in root for skip in skip_dirs):\n",
    "            continue  # Skip this directory and its contents\n",
    "        \n",
    "        # iterate over each file in the folder\n",
    "        for file in files:\n",
    "            # check if the file has an image extension\n",
    "            if file.endswith(('jpg', 'jpeg', 'png')):\n",
    "                img_path = os.path.join(root, file)         # Form the full file path\n",
    "                img = cv2.imread(img_path)                  # Read image using OpenCV\n",
    "                \n",
    "                if img is not None:                         # Ensure image was loaded successfully\n",
    "                    images.append((img, img_path))          # Append image with its path as a tuple\n",
    "                \n",
    "    # return images list\n",
    "    return images\n",
    "\n",
    "# define skip directories\n",
    "skip_directories = ['TargetImages']\n",
    "\n",
    "# load all images from the dataset\n",
    "all_images = (load_images_from_folder(dataset_path, skip_directories))\n",
    "\n",
    "# displaying a completion message\n",
    "print(f\"----- <Loaded {len(all_images)} images from {dataset_path}> -----\")"
   ]
  },
  {
   "cell_type": "markdown",
   "metadata": {},
   "source": [
    "### Defining and Setting Transformations"
   ]
  },
  {
   "cell_type": "markdown",
   "metadata": {},
   "source": [
    " Contains helper functions to control random transformations. `coin_toss()` returns a random True/False value to decide whether to apply a transformation, and `getRandomNumber()` returns a random number for adjusting brightness, contrast, saturation, and hue"
   ]
  },
  {
   "cell_type": "code",
   "execution_count": 12,
   "metadata": {},
   "outputs": [],
   "source": [
    "# function to return True of False randomly. This determines if transofrmation will be applied\n",
    "def coin_toss():\n",
    "    return random.choice([True, False])\n",
    "\n",
    "# function to return a random number from 0 to 1 for the brightness, contrast, saturation and hue\n",
    "def getRandomNumber(type):\n",
    "    if type == 'hue':\n",
    "        return round(random.uniform(0, 0.5), 2)\n",
    "    else :\n",
    "        return round(random.uniform(0, 1), 2)"
   ]
  },
  {
   "cell_type": "markdown",
   "metadata": {},
   "source": [
    "Builds a list of image transformations `(resize, flips, crops, rotation, color adjustments)` that may be applied randomly to each image. Finally, it combines all transformations into a single transformation pipeline"
   ]
  },
  {
   "cell_type": "code",
   "execution_count": 13,
   "metadata": {},
   "outputs": [],
   "source": [
    "# define transform - a list of transformations \n",
    "transform_list = []\n",
    "\n",
    "transform_list.append(t_v2.Resize((224, 224)))                                                  # Resize images to 255x255 pixels to maintain consistent input size\n",
    "if coin_toss(): transform_list.append(t_v2.RandomHorizontalFlip())                              # Randomly flipping the image horizontally\n",
    "if coin_toss(): transform_list.append(t_v2.RandomVerticalFlip())                                # Randomly flipping the image vertically\n",
    "if coin_toss(): transform_list.append(t_v2.RandomCrop((224, 224)))                              # Randomly cropping the image to 224x224 pixels\n",
    "if coin_toss(): transform_list.append(t_v2.RandomRotation(degrees=(0, 180)))                    # Rotating the image by a random angle\n",
    "if coin_toss(): transform_list.append(t_v2.ColorJitter(brightness=getRandomNumber('brightness'), \n",
    "                                                       contrast=getRandomNumber('contrast'), \n",
    "                                                       saturation=getRandomNumber('saturation'), \n",
    "                                                       hue=getRandomNumber('hue')))             # Randomly changing the brightness, contrast, saturation and hue of the image\n",
    "if coin_toss(): transform_list.append(t_v2.RandomAdjustSharpness(sharpness_factor=2))           # Randomly adjusting the sharpness of the image\n",
    "if coin_toss(): transform_list.append(t_v2.GaussianBlur(kernel_size=(5, 9), sigma=(0.1, 5)))    # Applying Gaussian Blur to the image\n",
    "\n",
    "# Add the final transformation to convert images to tensors\n",
    "transform_list.append(t_v2.Compose([t_v2.ToImage(), t_v2.ToDtype(torch.float32, scale=True)]))\n",
    "\n",
    "# Compose all transformations\n",
    "transform = t_v2.Compose(transform_list)\n",
    "\n",
    "# define transformToTensor seperatly\n",
    "transformToTensor = t_v2.Compose([\n",
    "    # t_v2.ToTensor(),  # Convert images to tensors - provides warning and recomends the code on line 44\n",
    "    t_v2.Compose([t_v2.ToImage(), t_v2.ToDtype(torch.float32, scale=True)]),\n",
    "])"
   ]
  },
  {
   "cell_type": "markdown",
   "metadata": {},
   "source": [
    "### Saving Augmented Images"
   ]
  },
  {
   "cell_type": "markdown",
   "metadata": {},
   "source": [
    "Loops through each loaded image, applies transformations, and saves five augmented versions of each image. Each saved image is named with an `_aug_{i + 1}.jpg` suffix to differentiate from the original"
   ]
  },
  {
   "cell_type": "code",
   "execution_count": 14,
   "metadata": {},
   "outputs": [],
   "source": [
    "# generate and save augmented images\n",
    "for img, img_path in all_images:\n",
    "    dir_path = os.path.dirname(img_path) # get the directory path for saving the augmented images\n",
    "    filename = os.path.splitext(os.path.basename(img_path))[0]  # extract filename without extension\n",
    "    \n",
    "    # Convert OpenCV image from BGR to RGB\n",
    "    img = cv2.cvtColor(img, cv2.COLOR_BGR2RGB)\n",
    "    \n",
    "    # converting og image to tensor\n",
    "    tensor_img = transformToTensor(img)\n",
    "    \n",
    "    for i in range(num_of_iterations_per_image):  # generate a number of augmented images\n",
    "        augmented_img = transform(tensor_img)  # apply transformations\n",
    "\n",
    "        augmented_filename = f\"{filename}_aug_{i + 1}.jpg\"  # naming convention: originalname_aug_index.jpg\n",
    "        t_utils.save_image(augmented_img, os.path.join(dir_path, augmented_filename)) # save the augmented image\n",
    "    "
   ]
  },
  {
   "cell_type": "markdown",
   "metadata": {},
   "source": [
    "### Clean Up"
   ]
  },
  {
   "cell_type": "markdown",
   "metadata": {},
   "source": [
    "Defines a function to delete previously saved augmented images. It checks each directory in the dataset for files containing `_aug_` in the name and deletes them"
   ]
  },
  {
   "cell_type": "code",
   "execution_count": 4,
   "metadata": {},
   "outputs": [],
   "source": [
    "# function to empty the save directories\n",
    "def empty_directory(directory):\n",
    "    # iterate over each file in the directory\n",
    "    for file in os.listdir(directory):\n",
    "        # get the full file path\n",
    "        file_path = os.path.join(directory, file)\n",
    "        \n",
    "        # check if the file is a file (not a subdirectory)\n",
    "        if os.path.isfile(file_path):\n",
    "            # check if '_aug_' is in the file name\n",
    "            if '_aug_' in file:\n",
    "                # remove the file\n",
    "                os.remove(file_path)\n",
    "\n",
    "# obtain all dataset directories\n",
    "for _, img_path in all_images:\n",
    "    dir_path = os.path.dirname(img_path)\n",
    "    # empty directory\n",
    "    empty_directory(dir_path)"
   ]
  },
  {
   "cell_type": "markdown",
   "metadata": {},
   "source": [
    "## References"
   ]
  },
  {
   "cell_type": "markdown",
   "metadata": {},
   "source": [
    "- https://pytorch.org/\n",
    "- https://pytorch.org/vision/stable/transforms.html\n",
    "- https://discuss.pytorch.org/t/save-transformed-resized-images-after-dataloader/56464/12"
   ]
  }
 ],
 "metadata": {
  "kernelspec": {
   "display_name": "Python 3",
   "language": "python",
   "name": "python3"
  },
  "language_info": {
   "codemirror_mode": {
    "name": "ipython",
    "version": 3
   },
   "file_extension": ".py",
   "mimetype": "text/x-python",
   "name": "python",
   "nbconvert_exporter": "python",
   "pygments_lexer": "ipython3",
   "version": "3.11.9"
  }
 },
 "nbformat": 4,
 "nbformat_minor": 2
}
